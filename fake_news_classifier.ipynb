{
  "nbformat": 4,
  "nbformat_minor": 0,
  "metadata": {
    "colab": {
      "name": "fake_news_classifier",
      "provenance": [],
      "collapsed_sections": [],
      "mount_file_id": "1aqBc2p7N_pNURkw7nV1pz875nkScTyLR",
      "authorship_tag": "ABX9TyMsFXDfM2RnxCRX3r7mAesa",
      "include_colab_link": true
    },
    "kernelspec": {
      "name": "python3",
      "display_name": "Python 3"
    },
    "language_info": {
      "name": "python"
    },
    "accelerator": "GPU"
  },
  "cells": [
    {
      "cell_type": "markdown",
      "metadata": {
        "id": "view-in-github",
        "colab_type": "text"
      },
      "source": [
        "<a href=\"https://colab.research.google.com/github/rahul-negi-projects/X_Education/blob/main/fake_news_classifier.ipynb\" target=\"_parent\"><img src=\"https://colab.research.google.com/assets/colab-badge.svg\" alt=\"Open In Colab\"/></a>"
      ]
    },
    {
      "cell_type": "code",
      "metadata": {
        "id": "_z-28Kh_le0N"
      },
      "source": [
        "import pandas as pd"
      ],
      "execution_count": null,
      "outputs": []
    },
    {
      "cell_type": "code",
      "metadata": {
        "id": "AeM4f5n6okHc"
      },
      "source": [
        "dataset_path = \"/content/drive/MyDrive/Colab_Notebooks/NLP/train.csv\""
      ],
      "execution_count": null,
      "outputs": []
    },
    {
      "cell_type": "code",
      "metadata": {
        "id": "4XjGMD-GqBf1"
      },
      "source": [
        "df = pd.read_csv(dataset_path)"
      ],
      "execution_count": null,
      "outputs": []
    },
    {
      "cell_type": "code",
      "metadata": {
        "colab": {
          "base_uri": "https://localhost:8080/",
          "height": 202
        },
        "id": "DJ0O3vBgqJDf",
        "outputId": "9d540778-2c05-4901-8b70-b87ffb60b4fa"
      },
      "source": [
        "df.head()"
      ],
      "execution_count": null,
      "outputs": [
        {
          "output_type": "execute_result",
          "data": {
            "text/html": [
              "<div>\n",
              "<style scoped>\n",
              "    .dataframe tbody tr th:only-of-type {\n",
              "        vertical-align: middle;\n",
              "    }\n",
              "\n",
              "    .dataframe tbody tr th {\n",
              "        vertical-align: top;\n",
              "    }\n",
              "\n",
              "    .dataframe thead th {\n",
              "        text-align: right;\n",
              "    }\n",
              "</style>\n",
              "<table border=\"1\" class=\"dataframe\">\n",
              "  <thead>\n",
              "    <tr style=\"text-align: right;\">\n",
              "      <th></th>\n",
              "      <th>id</th>\n",
              "      <th>title</th>\n",
              "      <th>author</th>\n",
              "      <th>text</th>\n",
              "      <th>label</th>\n",
              "    </tr>\n",
              "  </thead>\n",
              "  <tbody>\n",
              "    <tr>\n",
              "      <th>0</th>\n",
              "      <td>0</td>\n",
              "      <td>House Dem Aide: We Didn’t Even See Comey’s Let...</td>\n",
              "      <td>Darrell Lucus</td>\n",
              "      <td>House Dem Aide: We Didn’t Even See Comey’s Let...</td>\n",
              "      <td>1</td>\n",
              "    </tr>\n",
              "    <tr>\n",
              "      <th>1</th>\n",
              "      <td>1</td>\n",
              "      <td>FLYNN: Hillary Clinton, Big Woman on Campus - ...</td>\n",
              "      <td>Daniel J. Flynn</td>\n",
              "      <td>Ever get the feeling your life circles the rou...</td>\n",
              "      <td>0</td>\n",
              "    </tr>\n",
              "    <tr>\n",
              "      <th>2</th>\n",
              "      <td>2</td>\n",
              "      <td>Why the Truth Might Get You Fired</td>\n",
              "      <td>Consortiumnews.com</td>\n",
              "      <td>Why the Truth Might Get You Fired October 29, ...</td>\n",
              "      <td>1</td>\n",
              "    </tr>\n",
              "    <tr>\n",
              "      <th>3</th>\n",
              "      <td>3</td>\n",
              "      <td>15 Civilians Killed In Single US Airstrike Hav...</td>\n",
              "      <td>Jessica Purkiss</td>\n",
              "      <td>Videos 15 Civilians Killed In Single US Airstr...</td>\n",
              "      <td>1</td>\n",
              "    </tr>\n",
              "    <tr>\n",
              "      <th>4</th>\n",
              "      <td>4</td>\n",
              "      <td>Iranian woman jailed for fictional unpublished...</td>\n",
              "      <td>Howard Portnoy</td>\n",
              "      <td>Print \\nAn Iranian woman has been sentenced to...</td>\n",
              "      <td>1</td>\n",
              "    </tr>\n",
              "  </tbody>\n",
              "</table>\n",
              "</div>"
            ],
            "text/plain": [
              "   id  ... label\n",
              "0   0  ...     1\n",
              "1   1  ...     0\n",
              "2   2  ...     1\n",
              "3   3  ...     1\n",
              "4   4  ...     1\n",
              "\n",
              "[5 rows x 5 columns]"
            ]
          },
          "metadata": {
            "tags": []
          },
          "execution_count": 121
        }
      ]
    },
    {
      "cell_type": "code",
      "metadata": {
        "colab": {
          "base_uri": "https://localhost:8080/"
        },
        "id": "pLPM4gg5qLKB",
        "outputId": "e6f942ff-414e-4013-d3cb-c1048fafe7b2"
      },
      "source": [
        "df.shape"
      ],
      "execution_count": null,
      "outputs": [
        {
          "output_type": "execute_result",
          "data": {
            "text/plain": [
              "(20800, 5)"
            ]
          },
          "metadata": {
            "tags": []
          },
          "execution_count": 122
        }
      ]
    },
    {
      "cell_type": "code",
      "metadata": {
        "id": "vOwclYwHqx9N"
      },
      "source": [
        "df = df.dropna()"
      ],
      "execution_count": null,
      "outputs": []
    },
    {
      "cell_type": "code",
      "metadata": {
        "colab": {
          "base_uri": "https://localhost:8080/"
        },
        "id": "gLVsF3Gpq2qw",
        "outputId": "0ba17be2-5518-4623-8974-3d83abaf2b24"
      },
      "source": [
        "df.shape"
      ],
      "execution_count": null,
      "outputs": [
        {
          "output_type": "execute_result",
          "data": {
            "text/plain": [
              "(18285, 5)"
            ]
          },
          "metadata": {
            "tags": []
          },
          "execution_count": 124
        }
      ]
    },
    {
      "cell_type": "code",
      "metadata": {
        "id": "VwwuT2oWrEF0"
      },
      "source": [
        "X = df.drop(\"label\", axis=1)"
      ],
      "execution_count": null,
      "outputs": []
    },
    {
      "cell_type": "code",
      "metadata": {
        "id": "nYkdMsFIrNHa"
      },
      "source": [
        "y = df.label"
      ],
      "execution_count": null,
      "outputs": []
    },
    {
      "cell_type": "code",
      "metadata": {
        "colab": {
          "base_uri": "https://localhost:8080/"
        },
        "id": "9aXSchLHrPPz",
        "outputId": "3b6f5d1c-2253-4295-e405-d2be68f4c847"
      },
      "source": [
        "X.shape"
      ],
      "execution_count": null,
      "outputs": [
        {
          "output_type": "execute_result",
          "data": {
            "text/plain": [
              "(18285, 4)"
            ]
          },
          "metadata": {
            "tags": []
          },
          "execution_count": 127
        }
      ]
    },
    {
      "cell_type": "code",
      "metadata": {
        "id": "0GQ8HpWnrfwN"
      },
      "source": [
        "import tensorflow as tf"
      ],
      "execution_count": null,
      "outputs": []
    },
    {
      "cell_type": "code",
      "metadata": {
        "colab": {
          "base_uri": "https://localhost:8080/",
          "height": 35
        },
        "id": "VTTCkx8lryqv",
        "outputId": "e23e9ad4-1580-4516-c4e4-088cfe8c5fd3"
      },
      "source": [
        "tf.__version__"
      ],
      "execution_count": null,
      "outputs": [
        {
          "output_type": "execute_result",
          "data": {
            "application/vnd.google.colaboratory.intrinsic+json": {
              "type": "string"
            },
            "text/plain": [
              "'2.5.0'"
            ]
          },
          "metadata": {
            "tags": []
          },
          "execution_count": 129
        }
      ]
    },
    {
      "cell_type": "code",
      "metadata": {
        "id": "lkkdYh29r-4z"
      },
      "source": [
        "from tensorflow.keras.layers import Embedding\n",
        "from tensorflow.keras.preprocessing.sequence import pad_sequences\n",
        "from tensorflow.keras.models import Sequential\n",
        "from tensorflow.keras.preprocessing.text import one_hot\n",
        "from tensorflow.keras.layers import LSTM\n",
        "from tensorflow.keras.layers import Dense"
      ],
      "execution_count": null,
      "outputs": []
    },
    {
      "cell_type": "code",
      "metadata": {
        "id": "plDT5qQmsSZ6"
      },
      "source": [
        "# vocabulary size \n",
        "voc_size = 5000"
      ],
      "execution_count": null,
      "outputs": []
    },
    {
      "cell_type": "markdown",
      "metadata": {
        "id": "uahfdeKzvOHo"
      },
      "source": [
        "One hot represtentation"
      ]
    },
    {
      "cell_type": "code",
      "metadata": {
        "id": "3XEHsYYrvDsI"
      },
      "source": [
        "messages = X.copy()"
      ],
      "execution_count": null,
      "outputs": []
    },
    {
      "cell_type": "code",
      "metadata": {
        "colab": {
          "base_uri": "https://localhost:8080/",
          "height": 202
        },
        "id": "9HDfHVaOvWxq",
        "outputId": "f20b6e1f-dfcf-4487-86b4-94bf021aedac"
      },
      "source": [
        "messages.head()"
      ],
      "execution_count": null,
      "outputs": [
        {
          "output_type": "execute_result",
          "data": {
            "text/html": [
              "<div>\n",
              "<style scoped>\n",
              "    .dataframe tbody tr th:only-of-type {\n",
              "        vertical-align: middle;\n",
              "    }\n",
              "\n",
              "    .dataframe tbody tr th {\n",
              "        vertical-align: top;\n",
              "    }\n",
              "\n",
              "    .dataframe thead th {\n",
              "        text-align: right;\n",
              "    }\n",
              "</style>\n",
              "<table border=\"1\" class=\"dataframe\">\n",
              "  <thead>\n",
              "    <tr style=\"text-align: right;\">\n",
              "      <th></th>\n",
              "      <th>id</th>\n",
              "      <th>title</th>\n",
              "      <th>author</th>\n",
              "      <th>text</th>\n",
              "    </tr>\n",
              "  </thead>\n",
              "  <tbody>\n",
              "    <tr>\n",
              "      <th>0</th>\n",
              "      <td>0</td>\n",
              "      <td>House Dem Aide: We Didn’t Even See Comey’s Let...</td>\n",
              "      <td>Darrell Lucus</td>\n",
              "      <td>House Dem Aide: We Didn’t Even See Comey’s Let...</td>\n",
              "    </tr>\n",
              "    <tr>\n",
              "      <th>1</th>\n",
              "      <td>1</td>\n",
              "      <td>FLYNN: Hillary Clinton, Big Woman on Campus - ...</td>\n",
              "      <td>Daniel J. Flynn</td>\n",
              "      <td>Ever get the feeling your life circles the rou...</td>\n",
              "    </tr>\n",
              "    <tr>\n",
              "      <th>2</th>\n",
              "      <td>2</td>\n",
              "      <td>Why the Truth Might Get You Fired</td>\n",
              "      <td>Consortiumnews.com</td>\n",
              "      <td>Why the Truth Might Get You Fired October 29, ...</td>\n",
              "    </tr>\n",
              "    <tr>\n",
              "      <th>3</th>\n",
              "      <td>3</td>\n",
              "      <td>15 Civilians Killed In Single US Airstrike Hav...</td>\n",
              "      <td>Jessica Purkiss</td>\n",
              "      <td>Videos 15 Civilians Killed In Single US Airstr...</td>\n",
              "    </tr>\n",
              "    <tr>\n",
              "      <th>4</th>\n",
              "      <td>4</td>\n",
              "      <td>Iranian woman jailed for fictional unpublished...</td>\n",
              "      <td>Howard Portnoy</td>\n",
              "      <td>Print \\nAn Iranian woman has been sentenced to...</td>\n",
              "    </tr>\n",
              "  </tbody>\n",
              "</table>\n",
              "</div>"
            ],
            "text/plain": [
              "   id  ...                                               text\n",
              "0   0  ...  House Dem Aide: We Didn’t Even See Comey’s Let...\n",
              "1   1  ...  Ever get the feeling your life circles the rou...\n",
              "2   2  ...  Why the Truth Might Get You Fired October 29, ...\n",
              "3   3  ...  Videos 15 Civilians Killed In Single US Airstr...\n",
              "4   4  ...  Print \\nAn Iranian woman has been sentenced to...\n",
              "\n",
              "[5 rows x 4 columns]"
            ]
          },
          "metadata": {
            "tags": []
          },
          "execution_count": 133
        }
      ]
    },
    {
      "cell_type": "code",
      "metadata": {
        "id": "wb8lypswvcUN"
      },
      "source": [
        "messages.reset_index(inplace=True)"
      ],
      "execution_count": null,
      "outputs": []
    },
    {
      "cell_type": "code",
      "metadata": {
        "colab": {
          "base_uri": "https://localhost:8080/",
          "height": 202
        },
        "id": "Xm6aQkRUvuKk",
        "outputId": "e05e7f32-2c4a-4d80-bade-2e1a3d75b6a9"
      },
      "source": [
        "messages.head()"
      ],
      "execution_count": null,
      "outputs": [
        {
          "output_type": "execute_result",
          "data": {
            "text/html": [
              "<div>\n",
              "<style scoped>\n",
              "    .dataframe tbody tr th:only-of-type {\n",
              "        vertical-align: middle;\n",
              "    }\n",
              "\n",
              "    .dataframe tbody tr th {\n",
              "        vertical-align: top;\n",
              "    }\n",
              "\n",
              "    .dataframe thead th {\n",
              "        text-align: right;\n",
              "    }\n",
              "</style>\n",
              "<table border=\"1\" class=\"dataframe\">\n",
              "  <thead>\n",
              "    <tr style=\"text-align: right;\">\n",
              "      <th></th>\n",
              "      <th>index</th>\n",
              "      <th>id</th>\n",
              "      <th>title</th>\n",
              "      <th>author</th>\n",
              "      <th>text</th>\n",
              "    </tr>\n",
              "  </thead>\n",
              "  <tbody>\n",
              "    <tr>\n",
              "      <th>0</th>\n",
              "      <td>0</td>\n",
              "      <td>0</td>\n",
              "      <td>House Dem Aide: We Didn’t Even See Comey’s Let...</td>\n",
              "      <td>Darrell Lucus</td>\n",
              "      <td>House Dem Aide: We Didn’t Even See Comey’s Let...</td>\n",
              "    </tr>\n",
              "    <tr>\n",
              "      <th>1</th>\n",
              "      <td>1</td>\n",
              "      <td>1</td>\n",
              "      <td>FLYNN: Hillary Clinton, Big Woman on Campus - ...</td>\n",
              "      <td>Daniel J. Flynn</td>\n",
              "      <td>Ever get the feeling your life circles the rou...</td>\n",
              "    </tr>\n",
              "    <tr>\n",
              "      <th>2</th>\n",
              "      <td>2</td>\n",
              "      <td>2</td>\n",
              "      <td>Why the Truth Might Get You Fired</td>\n",
              "      <td>Consortiumnews.com</td>\n",
              "      <td>Why the Truth Might Get You Fired October 29, ...</td>\n",
              "    </tr>\n",
              "    <tr>\n",
              "      <th>3</th>\n",
              "      <td>3</td>\n",
              "      <td>3</td>\n",
              "      <td>15 Civilians Killed In Single US Airstrike Hav...</td>\n",
              "      <td>Jessica Purkiss</td>\n",
              "      <td>Videos 15 Civilians Killed In Single US Airstr...</td>\n",
              "    </tr>\n",
              "    <tr>\n",
              "      <th>4</th>\n",
              "      <td>4</td>\n",
              "      <td>4</td>\n",
              "      <td>Iranian woman jailed for fictional unpublished...</td>\n",
              "      <td>Howard Portnoy</td>\n",
              "      <td>Print \\nAn Iranian woman has been sentenced to...</td>\n",
              "    </tr>\n",
              "  </tbody>\n",
              "</table>\n",
              "</div>"
            ],
            "text/plain": [
              "   index  ...                                               text\n",
              "0      0  ...  House Dem Aide: We Didn’t Even See Comey’s Let...\n",
              "1      1  ...  Ever get the feeling your life circles the rou...\n",
              "2      2  ...  Why the Truth Might Get You Fired October 29, ...\n",
              "3      3  ...  Videos 15 Civilians Killed In Single US Airstr...\n",
              "4      4  ...  Print \\nAn Iranian woman has been sentenced to...\n",
              "\n",
              "[5 rows x 5 columns]"
            ]
          },
          "metadata": {
            "tags": []
          },
          "execution_count": 135
        }
      ]
    },
    {
      "cell_type": "markdown",
      "metadata": {
        "id": "B5Msg6HGww-S"
      },
      "source": [
        "Data preprocessing"
      ]
    },
    {
      "cell_type": "code",
      "metadata": {
        "id": "VMEaip5Gvwz5"
      },
      "source": [
        "import nltk\n",
        "import re\n",
        "from nltk.corpus import stopwords"
      ],
      "execution_count": null,
      "outputs": []
    },
    {
      "cell_type": "code",
      "metadata": {
        "colab": {
          "base_uri": "https://localhost:8080/"
        },
        "id": "bNGYyDd3wCKO",
        "outputId": "362ba587-03dd-4dab-a25e-19d8808edb44"
      },
      "source": [
        "nltk.download(\"stopwords\")"
      ],
      "execution_count": null,
      "outputs": [
        {
          "output_type": "stream",
          "text": [
            "[nltk_data] Downloading package stopwords to /root/nltk_data...\n",
            "[nltk_data]   Package stopwords is already up-to-date!\n"
          ],
          "name": "stdout"
        },
        {
          "output_type": "execute_result",
          "data": {
            "text/plain": [
              "True"
            ]
          },
          "metadata": {
            "tags": []
          },
          "execution_count": 137
        }
      ]
    },
    {
      "cell_type": "code",
      "metadata": {
        "id": "OWnw9acmxKF8"
      },
      "source": [
        "from nltk.stem.porter import PorterStemmer\n",
        "ps = PorterStemmer()"
      ],
      "execution_count": null,
      "outputs": []
    },
    {
      "cell_type": "code",
      "metadata": {
        "id": "v9T79B2qyOM1"
      },
      "source": [
        "corpus = []\n",
        "for i in range(0, len(messages)):\n",
        "  # print(i)\n",
        "  review = re.sub(\"[^a-zA-Z]\",\" \",messages[\"title\"][i])\n",
        "  review = review.lower()\n",
        "  review = review.split()\n",
        "  # print(review)\n",
        "\n",
        "  review = [ps.stem(word) for word in review if not  word in stopwords.words('english')]\n",
        "  # print(review)\n",
        "  review = \" \".join(review)\n",
        "  # print(review)\n",
        "  corpus.append(review)"
      ],
      "execution_count": null,
      "outputs": []
    },
    {
      "cell_type": "code",
      "metadata": {
        "id": "GteJC0pOAN-W",
        "colab": {
          "base_uri": "https://localhost:8080/"
        },
        "outputId": "c711a77c-d93d-4db1-d270-ad9b3526161a"
      },
      "source": [
        "corpus[0:2]"
      ],
      "execution_count": null,
      "outputs": [
        {
          "output_type": "execute_result",
          "data": {
            "text/plain": [
              "['hous dem aid even see comey letter jason chaffetz tweet',\n",
              " 'flynn hillari clinton big woman campu breitbart']"
            ]
          },
          "metadata": {
            "tags": []
          },
          "execution_count": 140
        }
      ]
    },
    {
      "cell_type": "code",
      "metadata": {
        "colab": {
          "base_uri": "https://localhost:8080/"
        },
        "id": "1GjsfLi8Gal9",
        "outputId": "2e5a87fa-2589-4a98-804d-727fc6fbf4c3"
      },
      "source": [
        "# One hot representation\n",
        "onehot_repr = [one_hot(word, voc_size) for word in corpus]\n",
        "onehot_repr[0:2]"
      ],
      "execution_count": null,
      "outputs": [
        {
          "output_type": "execute_result",
          "data": {
            "text/plain": [
              "[[2903, 3964, 4544, 1019, 4266, 3777, 1749, 4223, 1183, 39],\n",
              " [1967, 4526, 3417, 2680, 4557, 3856, 1609]]"
            ]
          },
          "metadata": {
            "tags": []
          },
          "execution_count": 141
        }
      ]
    },
    {
      "cell_type": "code",
      "metadata": {
        "id": "gvrtKvoWGlWH",
        "colab": {
          "base_uri": "https://localhost:8080/"
        },
        "outputId": "3ba17263-a6a2-4bc2-e49e-9c0b3a0728ed"
      },
      "source": [
        "# padding to make the length of all the sentences equal\n",
        "sent_len = 20\n",
        "\n",
        "embeded_docs = pad_sequences(onehot_repr, padding=\"pre\", maxlen=sent_len)\n",
        "embeded_docs[0:2]"
      ],
      "execution_count": null,
      "outputs": [
        {
          "output_type": "execute_result",
          "data": {
            "text/plain": [
              "array([[   0,    0,    0,    0,    0,    0,    0,    0,    0,    0, 2903,\n",
              "        3964, 4544, 1019, 4266, 3777, 1749, 4223, 1183,   39],\n",
              "       [   0,    0,    0,    0,    0,    0,    0,    0,    0,    0,    0,\n",
              "           0,    0, 1967, 4526, 3417, 2680, 4557, 3856, 1609]],\n",
              "      dtype=int32)"
            ]
          },
          "metadata": {
            "tags": []
          },
          "execution_count": 142
        }
      ]
    },
    {
      "cell_type": "code",
      "metadata": {
        "id": "6twmU8nUSoo0",
        "colab": {
          "base_uri": "https://localhost:8080/"
        },
        "outputId": "03e6f634-d5e3-4c21-d0e1-565a4f5b8970"
      },
      "source": [
        "len(embeded_docs)"
      ],
      "execution_count": null,
      "outputs": [
        {
          "output_type": "execute_result",
          "data": {
            "text/plain": [
              "18285"
            ]
          },
          "metadata": {
            "tags": []
          },
          "execution_count": 143
        }
      ]
    },
    {
      "cell_type": "markdown",
      "metadata": {
        "id": "oLqLSor90paq"
      },
      "source": [
        "Creating model"
      ]
    },
    {
      "cell_type": "code",
      "metadata": {
        "colab": {
          "base_uri": "https://localhost:8080/"
        },
        "id": "USrAbwwv0Z0o",
        "outputId": "fffdab76-0a50-462d-a257-4c9e0cdee282"
      },
      "source": [
        "embedding_vector_features = 40\n",
        "model = Sequential()\n",
        "model.add(Embedding(input_dim= voc_size, output_dim= embedding_vector_features, input_length= sent_len))\n",
        "model.add(LSTM(100)) # one LSTM layer with 100 neurons\n",
        "model.add(Dense(1, activation='sigmoid'))\n",
        "model.compile(loss='binary_crossentropy', optimizer=\"adam\", metrics= [\"accuracy\"])\n",
        "print(model.summary())"
      ],
      "execution_count": null,
      "outputs": [
        {
          "output_type": "stream",
          "text": [
            "Model: \"sequential_6\"\n",
            "_________________________________________________________________\n",
            "Layer (type)                 Output Shape              Param #   \n",
            "=================================================================\n",
            "embedding_6 (Embedding)      (None, 20, 40)            200000    \n",
            "_________________________________________________________________\n",
            "lstm_6 (LSTM)                (None, 100)               56400     \n",
            "_________________________________________________________________\n",
            "dense_6 (Dense)              (None, 1)                 101       \n",
            "=================================================================\n",
            "Total params: 256,501\n",
            "Trainable params: 256,501\n",
            "Non-trainable params: 0\n",
            "_________________________________________________________________\n",
            "None\n"
          ],
          "name": "stdout"
        }
      ]
    },
    {
      "cell_type": "code",
      "metadata": {
        "id": "pqD-GKuy220n"
      },
      "source": [
        "import numpy as np\n",
        "X_final = np.array(embeded_docs)\n",
        "y_final = np.array(y)"
      ],
      "execution_count": null,
      "outputs": []
    },
    {
      "cell_type": "code",
      "metadata": {
        "colab": {
          "base_uri": "https://localhost:8080/"
        },
        "id": "VMkGMfrP3Wnh",
        "outputId": "f6655b70-d2a8-4f9c-dbf3-d3f080a08960"
      },
      "source": [
        "embeded_docs[0:2]"
      ],
      "execution_count": null,
      "outputs": [
        {
          "output_type": "execute_result",
          "data": {
            "text/plain": [
              "array([[   0,    0,    0,    0,    0,    0,    0,    0,    0,    0, 2903,\n",
              "        3964, 4544, 1019, 4266, 3777, 1749, 4223, 1183,   39],\n",
              "       [   0,    0,    0,    0,    0,    0,    0,    0,    0,    0,    0,\n",
              "           0,    0, 1967, 4526, 3417, 2680, 4557, 3856, 1609]],\n",
              "      dtype=int32)"
            ]
          },
          "metadata": {
            "tags": []
          },
          "execution_count": 146
        }
      ]
    },
    {
      "cell_type": "code",
      "metadata": {
        "colab": {
          "base_uri": "https://localhost:8080/"
        },
        "id": "i9Mqoa2n3sgo",
        "outputId": "2d3cfd04-f51b-427a-f069-686ad8d6eeac"
      },
      "source": [
        "X_final[0:2]"
      ],
      "execution_count": null,
      "outputs": [
        {
          "output_type": "execute_result",
          "data": {
            "text/plain": [
              "array([[   0,    0,    0,    0,    0,    0,    0,    0,    0,    0, 2903,\n",
              "        3964, 4544, 1019, 4266, 3777, 1749, 4223, 1183,   39],\n",
              "       [   0,    0,    0,    0,    0,    0,    0,    0,    0,    0,    0,\n",
              "           0,    0, 1967, 4526, 3417, 2680, 4557, 3856, 1609]],\n",
              "      dtype=int32)"
            ]
          },
          "metadata": {
            "tags": []
          },
          "execution_count": 147
        }
      ]
    },
    {
      "cell_type": "code",
      "metadata": {
        "colab": {
          "base_uri": "https://localhost:8080/"
        },
        "id": "TBzkk0nG3ww2",
        "outputId": "4f6f8949-a4d7-4985-a4c4-1532e640d23a"
      },
      "source": [
        "X_final.shape,y_final.shape"
      ],
      "execution_count": null,
      "outputs": [
        {
          "output_type": "execute_result",
          "data": {
            "text/plain": [
              "((18285, 20), (18285,))"
            ]
          },
          "metadata": {
            "tags": []
          },
          "execution_count": 148
        }
      ]
    },
    {
      "cell_type": "code",
      "metadata": {
        "id": "AVT8UKZd33Ph"
      },
      "source": [
        "from sklearn.model_selection import train_test_split\n",
        "X_train, X_test, y_train, y_test = train_test_split(X_final, y_final, test_size=0.33, random_state=42)"
      ],
      "execution_count": null,
      "outputs": []
    },
    {
      "cell_type": "markdown",
      "metadata": {
        "id": "WcFEDRCxqr13"
      },
      "source": [
        "Model Training"
      ]
    },
    {
      "cell_type": "code",
      "metadata": {
        "colab": {
          "base_uri": "https://localhost:8080/"
        },
        "id": "Qlo1bcrxqh8w",
        "outputId": "72c8a721-f6aa-47a6-92dc-0cbb80cb76b0"
      },
      "source": [
        "model.fit(X_train, y_train, validation_data=(X_test,y_test), epochs=10, batch_size=64)"
      ],
      "execution_count": null,
      "outputs": [
        {
          "output_type": "stream",
          "text": [
            "Epoch 1/10\n",
            "192/192 [==============================] - 3s 10ms/step - loss: 0.3404 - accuracy: 0.8475 - val_loss: 0.1943 - val_accuracy: 0.9132\n",
            "Epoch 2/10\n",
            "192/192 [==============================] - 2s 9ms/step - loss: 0.1327 - accuracy: 0.9481 - val_loss: 0.1901 - val_accuracy: 0.9183\n",
            "Epoch 3/10\n",
            "192/192 [==============================] - 2s 8ms/step - loss: 0.0816 - accuracy: 0.9698 - val_loss: 0.2472 - val_accuracy: 0.9133\n",
            "Epoch 4/10\n",
            "192/192 [==============================] - 2s 8ms/step - loss: 0.0497 - accuracy: 0.9847 - val_loss: 0.2789 - val_accuracy: 0.9044\n",
            "Epoch 5/10\n",
            "192/192 [==============================] - 2s 9ms/step - loss: 0.0291 - accuracy: 0.9918 - val_loss: 0.2775 - val_accuracy: 0.9155\n",
            "Epoch 6/10\n",
            "192/192 [==============================] - 2s 8ms/step - loss: 0.0164 - accuracy: 0.9948 - val_loss: 0.4291 - val_accuracy: 0.9044\n",
            "Epoch 7/10\n",
            "192/192 [==============================] - 2s 8ms/step - loss: 0.0091 - accuracy: 0.9974 - val_loss: 0.4617 - val_accuracy: 0.9084\n",
            "Epoch 8/10\n",
            "192/192 [==============================] - 2s 8ms/step - loss: 0.0055 - accuracy: 0.9982 - val_loss: 0.4515 - val_accuracy: 0.9064\n",
            "Epoch 9/10\n",
            "192/192 [==============================] - 2s 9ms/step - loss: 0.0067 - accuracy: 0.9980 - val_loss: 0.5101 - val_accuracy: 0.9110\n",
            "Epoch 10/10\n",
            "192/192 [==============================] - 2s 9ms/step - loss: 0.0023 - accuracy: 0.9996 - val_loss: 0.6941 - val_accuracy: 0.9062\n"
          ],
          "name": "stdout"
        },
        {
          "output_type": "execute_result",
          "data": {
            "text/plain": [
              "<tensorflow.python.keras.callbacks.History at 0x7f194639b410>"
            ]
          },
          "metadata": {
            "tags": []
          },
          "execution_count": 150
        }
      ]
    },
    {
      "cell_type": "markdown",
      "metadata": {
        "id": "Wtkfk10GtQZ2"
      },
      "source": [
        "model is overfitting"
      ]
    },
    {
      "cell_type": "markdown",
      "metadata": {
        "id": "5XGd51J4szT0"
      },
      "source": [
        "Accuracy"
      ]
    },
    {
      "cell_type": "code",
      "metadata": {
        "colab": {
          "base_uri": "https://localhost:8080/"
        },
        "id": "7dgyhXUGrG0U",
        "outputId": "81e7ded8-43ca-4e09-852a-ad8bb207ee5e"
      },
      "source": [
        "y_pred = model.predict_classes(X_test)"
      ],
      "execution_count": null,
      "outputs": [
        {
          "output_type": "stream",
          "text": [
            "/usr/local/lib/python3.7/dist-packages/tensorflow/python/keras/engine/sequential.py:455: UserWarning: `model.predict_classes()` is deprecated and will be removed after 2021-01-01. Please use instead:* `np.argmax(model.predict(x), axis=-1)`,   if your model does multi-class classification   (e.g. if it uses a `softmax` last-layer activation).* `(model.predict(x) > 0.5).astype(\"int32\")`,   if your model does binary classification   (e.g. if it uses a `sigmoid` last-layer activation).\n",
            "  warnings.warn('`model.predict_classes()` is deprecated and '\n"
          ],
          "name": "stderr"
        }
      ]
    },
    {
      "cell_type": "code",
      "metadata": {
        "colab": {
          "base_uri": "https://localhost:8080/"
        },
        "id": "XEAc8aqnswDk",
        "outputId": "61490d40-e53c-485a-c0c5-85d62872112a"
      },
      "source": [
        "from sklearn.metrics import confusion_matrix,accuracy_score\n",
        "print(confusion_matrix(y_test, y_pred))\n",
        "print(accuracy_score(y_test,y_pred))"
      ],
      "execution_count": null,
      "outputs": [
        {
          "output_type": "stream",
          "text": [
            "[[3098  321]\n",
            " [ 245 2371]]\n",
            "0.9062137531068766\n"
          ],
          "name": "stdout"
        }
      ]
    },
    {
      "cell_type": "markdown",
      "metadata": {
        "id": "T4xm4J14tdy2"
      },
      "source": [
        "Adding dropout layer"
      ]
    },
    {
      "cell_type": "code",
      "metadata": {
        "colab": {
          "base_uri": "https://localhost:8080/"
        },
        "id": "M94owTlrtchH",
        "outputId": "61d41280-95c3-43f9-cd6b-25d88d108a18"
      },
      "source": [
        "from tensorflow.keras.layers import Dropout\n",
        "\n",
        "embedding_vector_features= 40\n",
        "model = Sequential()\n",
        "model.add(Embedding(voc_size, embedding_vector_features, input_length= sent_len))\n",
        "model.add(LSTM(100))\n",
        "model.add(Dropout(0.3))\n",
        "model.add(Dense(1, activation='sigmoid'))\n",
        "model.compile(loss='binary_crossentropy', optimizer='adam', metrics=[\"accuracy\"])\n",
        "model.summary()"
      ],
      "execution_count": null,
      "outputs": [
        {
          "output_type": "stream",
          "text": [
            "Model: \"sequential_7\"\n",
            "_________________________________________________________________\n",
            "Layer (type)                 Output Shape              Param #   \n",
            "=================================================================\n",
            "embedding_7 (Embedding)      (None, 20, 40)            200000    \n",
            "_________________________________________________________________\n",
            "lstm_7 (LSTM)                (None, 100)               56400     \n",
            "_________________________________________________________________\n",
            "dropout_3 (Dropout)          (None, 100)               0         \n",
            "_________________________________________________________________\n",
            "dense_7 (Dense)              (None, 1)                 101       \n",
            "=================================================================\n",
            "Total params: 256,501\n",
            "Trainable params: 256,501\n",
            "Non-trainable params: 0\n",
            "_________________________________________________________________\n"
          ],
          "name": "stdout"
        }
      ]
    },
    {
      "cell_type": "code",
      "metadata": {
        "colab": {
          "base_uri": "https://localhost:8080/"
        },
        "id": "YiwFEU4auc-J",
        "outputId": "3eeca00c-c299-4c72-b15a-2d5d6c516c52"
      },
      "source": [
        "model.fit(X_train, y_train, validation_data=(X_test,y_test), epochs=10, batch_size=64)"
      ],
      "execution_count": null,
      "outputs": [
        {
          "output_type": "stream",
          "text": [
            "Epoch 1/10\n",
            "192/192 [==============================] - 4s 10ms/step - loss: 0.3306 - accuracy: 0.8449 - val_loss: 0.1960 - val_accuracy: 0.9150\n",
            "Epoch 2/10\n",
            "192/192 [==============================] - 2s 8ms/step - loss: 0.1360 - accuracy: 0.9459 - val_loss: 0.2158 - val_accuracy: 0.9181\n",
            "Epoch 3/10\n",
            "192/192 [==============================] - 2s 8ms/step - loss: 0.0944 - accuracy: 0.9638 - val_loss: 0.2129 - val_accuracy: 0.9171\n",
            "Epoch 4/10\n",
            "192/192 [==============================] - 2s 8ms/step - loss: 0.0708 - accuracy: 0.9745 - val_loss: 0.2274 - val_accuracy: 0.9160\n",
            "Epoch 5/10\n",
            "192/192 [==============================] - 2s 8ms/step - loss: 0.0470 - accuracy: 0.9849 - val_loss: 0.2928 - val_accuracy: 0.9082\n",
            "Epoch 6/10\n",
            "192/192 [==============================] - 2s 8ms/step - loss: 0.0337 - accuracy: 0.9893 - val_loss: 0.4487 - val_accuracy: 0.9127\n",
            "Epoch 7/10\n",
            "192/192 [==============================] - 2s 8ms/step - loss: 0.0229 - accuracy: 0.9929 - val_loss: 0.4293 - val_accuracy: 0.9135\n",
            "Epoch 8/10\n",
            "192/192 [==============================] - 2s 8ms/step - loss: 0.0174 - accuracy: 0.9946 - val_loss: 0.4590 - val_accuracy: 0.9142\n",
            "Epoch 9/10\n",
            "192/192 [==============================] - 2s 8ms/step - loss: 0.0107 - accuracy: 0.9971 - val_loss: 0.4652 - val_accuracy: 0.9047\n",
            "Epoch 10/10\n",
            "192/192 [==============================] - 2s 8ms/step - loss: 0.0069 - accuracy: 0.9984 - val_loss: 0.6002 - val_accuracy: 0.9109\n"
          ],
          "name": "stdout"
        },
        {
          "output_type": "execute_result",
          "data": {
            "text/plain": [
              "<tensorflow.python.keras.callbacks.History at 0x7f191c432650>"
            ]
          },
          "metadata": {
            "tags": []
          },
          "execution_count": 154
        }
      ]
    },
    {
      "cell_type": "code",
      "metadata": {
        "colab": {
          "base_uri": "https://localhost:8080/"
        },
        "id": "rxLZSY24uo_s",
        "outputId": "c2d73c34-2326-407d-dc69-80abf62c478e"
      },
      "source": [
        "y_pred = model.predict_classes(X_test)"
      ],
      "execution_count": null,
      "outputs": [
        {
          "output_type": "stream",
          "text": [
            "/usr/local/lib/python3.7/dist-packages/tensorflow/python/keras/engine/sequential.py:455: UserWarning: `model.predict_classes()` is deprecated and will be removed after 2021-01-01. Please use instead:* `np.argmax(model.predict(x), axis=-1)`,   if your model does multi-class classification   (e.g. if it uses a `softmax` last-layer activation).* `(model.predict(x) > 0.5).astype(\"int32\")`,   if your model does binary classification   (e.g. if it uses a `sigmoid` last-layer activation).\n",
            "  warnings.warn('`model.predict_classes()` is deprecated and '\n"
          ],
          "name": "stderr"
        }
      ]
    },
    {
      "cell_type": "code",
      "metadata": {
        "colab": {
          "base_uri": "https://localhost:8080/"
        },
        "id": "hfxp1P2svHUM",
        "outputId": "91ebd9bd-6b0c-4d4e-970d-f9b7345a02e6"
      },
      "source": [
        "from sklearn.metrics import confusion_matrix,accuracy_score\n",
        "print(confusion_matrix(y_test, y_pred))\n",
        "print(accuracy_score(y_test,y_pred))"
      ],
      "execution_count": null,
      "outputs": [
        {
          "output_type": "stream",
          "text": [
            "[[3094  325]\n",
            " [ 213 2403]]\n",
            "0.9108533554266777\n"
          ],
          "name": "stdout"
        }
      ]
    }
  ]
}